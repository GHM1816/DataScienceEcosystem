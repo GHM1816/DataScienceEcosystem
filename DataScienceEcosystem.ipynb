{
 "cells": [
  {
   "cell_type": "markdown",
   "id": "e8c3c2f2-be7a-4f9f-9c41-2e4c8d03aad5",
   "metadata": {},
   "source": [
    "# Data Science Tools and Ecosystem\n",
    "\n",
    "In this notebook, Data Science tools and Ecosystem are summarized."
   ]
  },
  {
   "cell_type": "markdown",
   "id": "6b525ab0-1af4-44db-a885-cb3b980672fc",
   "metadata": {},
   "source": [
    "__Objectives:__\n",
    "* List some popular languages in DS\n",
    "* Give some example of using aruthmetic expressions in Python\n",
    "* Share into github account"
   ]
  },
  {
   "cell_type": "markdown",
   "id": "2b85d8ba-1e6e-4dab-8e9b-ed0b87a63879",
   "metadata": {},
   "source": [
    "Some of the popular languages that data Scientists use are:\n",
    "1. R\n",
    "2. Python\n",
    "3. Julia"
   ]
  },
  {
   "cell_type": "markdown",
   "id": "73df1d54-7a69-4dbd-83bd-48bae906fc2a",
   "metadata": {},
   "source": [
    "|Data Science Tools|\n",
    "|------------------|\n",
    "|Github|\n",
    "|RStudio|\n",
    "|IBM wenston studio|"
   ]
  },
  {
   "cell_type": "markdown",
   "id": "bd66eaa0-8638-455e-97e5-58f7d620113f",
   "metadata": {},
   "source": [
    "### Below are a few examples of evaluating arithmetic expressions in Python"
   ]
  },
  {
   "cell_type": "code",
   "execution_count": 5,
   "id": "fb134e35-f0f6-4834-a709-f50a3d0bf413",
   "metadata": {},
   "outputs": [
    {
     "data": {
      "text/plain": [
       "17"
      ]
     },
     "execution_count": 5,
     "metadata": {},
     "output_type": "execute_result"
    }
   ],
   "source": [
    "#This a simple arithmetic expression to mutiply then add integers\n",
    "(3 * 4) + 5"
   ]
  },
  {
   "cell_type": "code",
   "execution_count": 6,
   "id": "b93e6a54-6a99-4246-96bb-534db6c3b8e4",
   "metadata": {},
   "outputs": [
    {
     "name": "stdout",
     "output_type": "stream",
     "text": [
      "200 minutes have  3 hours and  20 Minutes\n"
     ]
    }
   ],
   "source": [
    "nbHours= 200 // 60\n",
    "nbMinutes = 200 % 60\n",
    "print(\"200 minutes have \", nbHours, \"hours and \", nbMinutes, \"Minutes\")"
   ]
  },
  {
   "cell_type": "markdown",
   "id": "7ccc1aaf-0650-43dd-bb72-0317d46446c6",
   "metadata": {},
   "source": [
    "## Author __Guibane Mohamed Hedi__"
   ]
  },
  {
   "cell_type": "code",
   "execution_count": null,
   "id": "ef5328c6-f80b-43e7-857f-ba9512237548",
   "metadata": {},
   "outputs": [],
   "source": []
  }
 ],
 "metadata": {
  "kernelspec": {
   "display_name": "Python 3 (ipykernel)",
   "language": "python",
   "name": "python3"
  },
  "language_info": {
   "codemirror_mode": {
    "name": "ipython",
    "version": 3
   },
   "file_extension": ".py",
   "mimetype": "text/x-python",
   "name": "python",
   "nbconvert_exporter": "python",
   "pygments_lexer": "ipython3",
   "version": "3.11.7"
  }
 },
 "nbformat": 4,
 "nbformat_minor": 5
}
